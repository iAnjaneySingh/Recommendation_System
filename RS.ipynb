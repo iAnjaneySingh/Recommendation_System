{
 "cells": [
  {
   "cell_type": "markdown",
   "metadata": {},
   "source": [
    "Movie Recommendation Engine"
   ]
  },
  {
   "cell_type": "code",
   "execution_count": 2,
   "metadata": {},
   "outputs": [],
   "source": [
    "# Importing Libraries\n",
    "import pandas as pd\n",
    "import numpy as np\n",
    "from sklearn.metrics.pairwise import cosine_similarity\n",
    "from sklearn.feature_extraction.text import CountVectorizer"
   ]
  },
  {
   "cell_type": "code",
   "execution_count": 3,
   "metadata": {},
   "outputs": [
    {
     "data": {
      "text/plain": [
       "'C:\\\\Users\\\\Admin\\\\Desktop\\\\Beautiful'"
      ]
     },
     "execution_count": 3,
     "metadata": {},
     "output_type": "execute_result"
    }
   ],
   "source": [
    "pwd"
   ]
  },
  {
   "cell_type": "code",
   "execution_count": 4,
   "metadata": {},
   "outputs": [
    {
     "data": {
      "text/html": [
       "<div>\n",
       "<style scoped>\n",
       "    .dataframe tbody tr th:only-of-type {\n",
       "        vertical-align: middle;\n",
       "    }\n",
       "\n",
       "    .dataframe tbody tr th {\n",
       "        vertical-align: top;\n",
       "    }\n",
       "\n",
       "    .dataframe thead th {\n",
       "        text-align: right;\n",
       "    }\n",
       "</style>\n",
       "<table border=\"1\" class=\"dataframe\">\n",
       "  <thead>\n",
       "    <tr style=\"text-align: right;\">\n",
       "      <th></th>\n",
       "      <th>imdb_title_id</th>\n",
       "      <th>title</th>\n",
       "      <th>original_title</th>\n",
       "      <th>year</th>\n",
       "      <th>reviews_from_critics</th>\n",
       "      <th>genre</th>\n",
       "      <th>duration</th>\n",
       "      <th>country</th>\n",
       "      <th>language</th>\n",
       "      <th>director</th>\n",
       "      <th>writer</th>\n",
       "      <th>production_company</th>\n",
       "      <th>actors</th>\n",
       "      <th>description</th>\n",
       "      <th>avg_vote</th>\n",
       "      <th>votes</th>\n",
       "      <th>reviews_from_users</th>\n",
       "    </tr>\n",
       "  </thead>\n",
       "  <tbody>\n",
       "    <tr>\n",
       "      <th>0</th>\n",
       "      <td>tt0000009</td>\n",
       "      <td>Miss Jerry</td>\n",
       "      <td>Miss Jerry</td>\n",
       "      <td>1894</td>\n",
       "      <td>2.0</td>\n",
       "      <td>Romance</td>\n",
       "      <td>45</td>\n",
       "      <td>USA</td>\n",
       "      <td>None</td>\n",
       "      <td>Alexander Black</td>\n",
       "      <td>Alexander Black</td>\n",
       "      <td>Alexander Black Photoplays</td>\n",
       "      <td>Blanche Bayliss, William Courtenay, Chauncey D...</td>\n",
       "      <td>The adventures of a female reporter in the 1890s.</td>\n",
       "      <td>5.9</td>\n",
       "      <td>154</td>\n",
       "      <td>1.0</td>\n",
       "    </tr>\n",
       "    <tr>\n",
       "      <th>1</th>\n",
       "      <td>tt0000574</td>\n",
       "      <td>The Story of the Kelly Gang</td>\n",
       "      <td>The Story of the Kelly Gang</td>\n",
       "      <td>1906</td>\n",
       "      <td>7.0</td>\n",
       "      <td>Biography, Crime, Drama</td>\n",
       "      <td>70</td>\n",
       "      <td>Australia</td>\n",
       "      <td>None</td>\n",
       "      <td>Charles Tait</td>\n",
       "      <td>Charles Tait</td>\n",
       "      <td>J. and N. Tait</td>\n",
       "      <td>Elizabeth Tait, John Tait, Norman Campbell, Be...</td>\n",
       "      <td>True story of notorious Australian outlaw Ned ...</td>\n",
       "      <td>6.1</td>\n",
       "      <td>589</td>\n",
       "      <td>7.0</td>\n",
       "    </tr>\n",
       "    <tr>\n",
       "      <th>2</th>\n",
       "      <td>tt0001892</td>\n",
       "      <td>Den sorte drøm</td>\n",
       "      <td>Den sorte drøm</td>\n",
       "      <td>1911</td>\n",
       "      <td>2.0</td>\n",
       "      <td>Drama</td>\n",
       "      <td>53</td>\n",
       "      <td>Germany, Denmark</td>\n",
       "      <td>NaN</td>\n",
       "      <td>Urban Gad</td>\n",
       "      <td>Urban Gad, Gebhard Schätzler-Perasini</td>\n",
       "      <td>Fotorama</td>\n",
       "      <td>Asta Nielsen, Valdemar Psilander, Gunnar Helse...</td>\n",
       "      <td>Two men of high rank are both wooing the beaut...</td>\n",
       "      <td>5.8</td>\n",
       "      <td>188</td>\n",
       "      <td>5.0</td>\n",
       "    </tr>\n",
       "  </tbody>\n",
       "</table>\n",
       "</div>"
      ],
      "text/plain": [
       "  imdb_title_id                        title               original_title  \\\n",
       "0     tt0000009                   Miss Jerry                   Miss Jerry   \n",
       "1     tt0000574  The Story of the Kelly Gang  The Story of the Kelly Gang   \n",
       "2     tt0001892               Den sorte drøm               Den sorte drøm   \n",
       "\n",
       "   year  reviews_from_critics                    genre  duration  \\\n",
       "0  1894                   2.0                  Romance        45   \n",
       "1  1906                   7.0  Biography, Crime, Drama        70   \n",
       "2  1911                   2.0                    Drama        53   \n",
       "\n",
       "            country language         director  \\\n",
       "0               USA     None  Alexander Black   \n",
       "1         Australia     None     Charles Tait   \n",
       "2  Germany, Denmark      NaN        Urban Gad   \n",
       "\n",
       "                                  writer          production_company  \\\n",
       "0                        Alexander Black  Alexander Black Photoplays   \n",
       "1                           Charles Tait              J. and N. Tait   \n",
       "2  Urban Gad, Gebhard Schätzler-Perasini                    Fotorama   \n",
       "\n",
       "                                              actors  \\\n",
       "0  Blanche Bayliss, William Courtenay, Chauncey D...   \n",
       "1  Elizabeth Tait, John Tait, Norman Campbell, Be...   \n",
       "2  Asta Nielsen, Valdemar Psilander, Gunnar Helse...   \n",
       "\n",
       "                                         description  avg_vote  votes  \\\n",
       "0  The adventures of a female reporter in the 1890s.       5.9    154   \n",
       "1  True story of notorious Australian outlaw Ned ...       6.1    589   \n",
       "2  Two men of high rank are both wooing the beaut...       5.8    188   \n",
       "\n",
       "   reviews_from_users  \n",
       "0                 1.0  \n",
       "1                 7.0  \n",
       "2                 5.0  "
      ]
     },
     "execution_count": 4,
     "metadata": {},
     "output_type": "execute_result"
    }
   ],
   "source": [
    "#Loading and Storing the data \n",
    "df = pd.read_csv(r\"C:\\Users\\Admin\\Desktop\\Beautiful\\Recommendation_System\\movie_data.csv\")\n",
    "df.head(3)"
   ]
  },
  {
   "cell_type": "code",
   "execution_count": 6,
   "metadata": {},
   "outputs": [
    {
     "data": {
      "text/plain": [
       "(69999, 17)"
      ]
     },
     "execution_count": 6,
     "metadata": {},
     "output_type": "execute_result"
    }
   ],
   "source": [
    "df.shape"
   ]
  },
  {
   "cell_type": "code",
   "execution_count": 7,
   "metadata": {},
   "outputs": [
    {
     "data": {
      "text/plain": [
       "imdb_title_id              0\n",
       "title                      0\n",
       "original_title             0\n",
       "year                       0\n",
       "reviews_from_critics    9589\n",
       "genre                      0\n",
       "duration                   0\n",
       "country                   23\n",
       "language                 524\n",
       "director                  44\n",
       "writer                  1017\n",
       "production_company      3376\n",
       "actors                    40\n",
       "description             1891\n",
       "avg_vote                   0\n",
       "votes                      0\n",
       "reviews_from_users      5388\n",
       "dtype: int64"
      ]
     },
     "execution_count": 7,
     "metadata": {},
     "output_type": "execute_result"
    }
   ],
   "source": [
    "df.isnull().sum()"
   ]
  },
  {
   "cell_type": "code",
   "execution_count": 8,
   "metadata": {},
   "outputs": [],
   "source": [
    "missing_value=[\"N/a\",\"na\",\"np.nan\"]\n",
    "df = pd.read_csv(r\"C:\\Users\\Admin\\Desktop\\Beautiful\\Recommendation_System\\movie_data.csv\", na_values= missing_value)"
   ]
  },
  {
   "cell_type": "code",
   "execution_count": 9,
   "metadata": {},
   "outputs": [
    {
     "data": {
      "text/plain": [
       "imdb_title_id              0\n",
       "title                      0\n",
       "original_title             0\n",
       "year                       0\n",
       "reviews_from_critics    9589\n",
       "genre                      0\n",
       "duration                   0\n",
       "country                   23\n",
       "language                 524\n",
       "director                  44\n",
       "writer                  1017\n",
       "production_company      3376\n",
       "actors                    40\n",
       "description             1891\n",
       "avg_vote                   0\n",
       "votes                      0\n",
       "reviews_from_users      5388\n",
       "dtype: int64"
      ]
     },
     "execution_count": 9,
     "metadata": {},
     "output_type": "execute_result"
    }
   ],
   "source": [
    "df.isnull().sum()"
   ]
  },
  {
   "cell_type": "code",
   "execution_count": 12,
   "metadata": {},
   "outputs": [
    {
     "data": {
      "text/plain": [
       "(54526, 17)"
      ]
     },
     "execution_count": 12,
     "metadata": {},
     "output_type": "execute_result"
    }
   ],
   "source": [
    "df.dropna(how = 'any').shape"
   ]
  },
  {
   "cell_type": "code",
   "execution_count": 13,
   "metadata": {},
   "outputs": [
    {
     "data": {
      "text/plain": [
       "(69999, 17)"
      ]
     },
     "execution_count": 13,
     "metadata": {},
     "output_type": "execute_result"
    }
   ],
   "source": [
    "df.dropna(how = 'all').shape"
   ]
  },
  {
   "cell_type": "code",
   "execution_count": 21,
   "metadata": {},
   "outputs": [
    {
     "data": {
      "text/html": [
       "<div>\n",
       "<style scoped>\n",
       "    .dataframe tbody tr th:only-of-type {\n",
       "        vertical-align: middle;\n",
       "    }\n",
       "\n",
       "    .dataframe tbody tr th {\n",
       "        vertical-align: top;\n",
       "    }\n",
       "\n",
       "    .dataframe thead th {\n",
       "        text-align: right;\n",
       "    }\n",
       "</style>\n",
       "<table border=\"1\" class=\"dataframe\">\n",
       "  <thead>\n",
       "    <tr style=\"text-align: right;\">\n",
       "      <th></th>\n",
       "      <th>imdb_title_id</th>\n",
       "      <th>title</th>\n",
       "      <th>original_title</th>\n",
       "      <th>year</th>\n",
       "      <th>reviews_from_critics</th>\n",
       "      <th>genre</th>\n",
       "      <th>duration</th>\n",
       "      <th>country</th>\n",
       "      <th>language</th>\n",
       "      <th>director</th>\n",
       "      <th>writer</th>\n",
       "      <th>production_company</th>\n",
       "      <th>actors</th>\n",
       "      <th>description</th>\n",
       "      <th>avg_vote</th>\n",
       "      <th>votes</th>\n",
       "      <th>reviews_from_users</th>\n",
       "    </tr>\n",
       "  </thead>\n",
       "  <tbody>\n",
       "    <tr>\n",
       "      <th>0</th>\n",
       "      <td>tt0000009</td>\n",
       "      <td>Miss Jerry</td>\n",
       "      <td>Miss Jerry</td>\n",
       "      <td>1894</td>\n",
       "      <td>2.0</td>\n",
       "      <td>Romance</td>\n",
       "      <td>45</td>\n",
       "      <td>USA</td>\n",
       "      <td>None</td>\n",
       "      <td>Alexander Black</td>\n",
       "      <td>Alexander Black</td>\n",
       "      <td>Alexander Black Photoplays</td>\n",
       "      <td>Blanche Bayliss, William Courtenay, Chauncey D...</td>\n",
       "      <td>The adventures of a female reporter in the 1890s.</td>\n",
       "      <td>5.9</td>\n",
       "      <td>154</td>\n",
       "      <td>1.0</td>\n",
       "    </tr>\n",
       "    <tr>\n",
       "      <th>1</th>\n",
       "      <td>tt0000574</td>\n",
       "      <td>The Story of the Kelly Gang</td>\n",
       "      <td>The Story of the Kelly Gang</td>\n",
       "      <td>1906</td>\n",
       "      <td>7.0</td>\n",
       "      <td>Biography, Crime, Drama</td>\n",
       "      <td>70</td>\n",
       "      <td>Australia</td>\n",
       "      <td>None</td>\n",
       "      <td>Charles Tait</td>\n",
       "      <td>Charles Tait</td>\n",
       "      <td>J. and N. Tait</td>\n",
       "      <td>Elizabeth Tait, John Tait, Norman Campbell, Be...</td>\n",
       "      <td>True story of notorious Australian outlaw Ned ...</td>\n",
       "      <td>6.1</td>\n",
       "      <td>589</td>\n",
       "      <td>7.0</td>\n",
       "    </tr>\n",
       "    <tr>\n",
       "      <th>3</th>\n",
       "      <td>tt0002101</td>\n",
       "      <td>Cleopatra</td>\n",
       "      <td>Cleopatra</td>\n",
       "      <td>1912</td>\n",
       "      <td>3.0</td>\n",
       "      <td>Drama, History</td>\n",
       "      <td>100</td>\n",
       "      <td>USA</td>\n",
       "      <td>English</td>\n",
       "      <td>Charles L. Gaskill</td>\n",
       "      <td>Victorien Sardou</td>\n",
       "      <td>Helen Gardner Picture Players</td>\n",
       "      <td>Helen Gardner, Pearl Sindelar, Miss Fielding, ...</td>\n",
       "      <td>The fabled queen of Egypt's affair with Roman ...</td>\n",
       "      <td>5.2</td>\n",
       "      <td>446</td>\n",
       "      <td>25.0</td>\n",
       "    </tr>\n",
       "    <tr>\n",
       "      <th>4</th>\n",
       "      <td>tt0002130</td>\n",
       "      <td>L'Inferno</td>\n",
       "      <td>L'Inferno</td>\n",
       "      <td>1911</td>\n",
       "      <td>14.0</td>\n",
       "      <td>Adventure, Drama, Fantasy</td>\n",
       "      <td>68</td>\n",
       "      <td>Italy</td>\n",
       "      <td>Italian</td>\n",
       "      <td>Francesco Bertolini, Adolfo Padovan</td>\n",
       "      <td>Dante Alighieri</td>\n",
       "      <td>Milano Film</td>\n",
       "      <td>Salvatore Papa, Arturo Pirovano, Giuseppe de L...</td>\n",
       "      <td>Loosely adapted from Dante's Divine Comedy and...</td>\n",
       "      <td>7.0</td>\n",
       "      <td>2237</td>\n",
       "      <td>31.0</td>\n",
       "    </tr>\n",
       "    <tr>\n",
       "      <th>5</th>\n",
       "      <td>tt0002199</td>\n",
       "      <td>From the Manger to the Cross; or, Jesus of Naz...</td>\n",
       "      <td>From the Manger to the Cross; or, Jesus of Naz...</td>\n",
       "      <td>1912</td>\n",
       "      <td>5.0</td>\n",
       "      <td>Biography, Drama</td>\n",
       "      <td>60</td>\n",
       "      <td>USA</td>\n",
       "      <td>English</td>\n",
       "      <td>Sidney Olcott</td>\n",
       "      <td>Gene Gauntier</td>\n",
       "      <td>Kalem Company</td>\n",
       "      <td>R. Henderson Bland, Percy Dyer, Gene Gauntier,...</td>\n",
       "      <td>An account of the life of Jesus Christ, based ...</td>\n",
       "      <td>5.7</td>\n",
       "      <td>484</td>\n",
       "      <td>13.0</td>\n",
       "    </tr>\n",
       "    <tr>\n",
       "      <th>...</th>\n",
       "      <td>...</td>\n",
       "      <td>...</td>\n",
       "      <td>...</td>\n",
       "      <td>...</td>\n",
       "      <td>...</td>\n",
       "      <td>...</td>\n",
       "      <td>...</td>\n",
       "      <td>...</td>\n",
       "      <td>...</td>\n",
       "      <td>...</td>\n",
       "      <td>...</td>\n",
       "      <td>...</td>\n",
       "      <td>...</td>\n",
       "      <td>...</td>\n",
       "      <td>...</td>\n",
       "      <td>...</td>\n",
       "      <td>...</td>\n",
       "    </tr>\n",
       "    <tr>\n",
       "      <th>69994</th>\n",
       "      <td>tt3136112</td>\n",
       "      <td>Shelter</td>\n",
       "      <td>Shelter</td>\n",
       "      <td>2014</td>\n",
       "      <td>29.0</td>\n",
       "      <td>Drama</td>\n",
       "      <td>105</td>\n",
       "      <td>USA</td>\n",
       "      <td>English, French</td>\n",
       "      <td>Paul Bettany</td>\n",
       "      <td>Paul Bettany</td>\n",
       "      <td>Bifrost Pictures</td>\n",
       "      <td>Adolfo Mendez-Nouel, Anthony Mackie, Kevin Hof...</td>\n",
       "      <td>Hannah and Tahir fall in love while homeless o...</td>\n",
       "      <td>6.5</td>\n",
       "      <td>4322</td>\n",
       "      <td>32.0</td>\n",
       "    </tr>\n",
       "    <tr>\n",
       "      <th>69995</th>\n",
       "      <td>tt3136646</td>\n",
       "      <td>Dukhless 2</td>\n",
       "      <td>Dukhless 2</td>\n",
       "      <td>2015</td>\n",
       "      <td>2.0</td>\n",
       "      <td>Drama</td>\n",
       "      <td>103</td>\n",
       "      <td>Russia</td>\n",
       "      <td>Russian</td>\n",
       "      <td>Roman Prygunov</td>\n",
       "      <td>Fuad Ibragimbekov, Mikhail Idov</td>\n",
       "      <td>Art Pictures Studio</td>\n",
       "      <td>Danila Kozlovsky, Mariya Andreeva, Milos Bikov...</td>\n",
       "      <td>Max Andreev thought the best place to start a ...</td>\n",
       "      <td>6.2</td>\n",
       "      <td>1555</td>\n",
       "      <td>2.0</td>\n",
       "    </tr>\n",
       "    <tr>\n",
       "      <th>69996</th>\n",
       "      <td>tt3136752</td>\n",
       "      <td>Le dernier diamant</td>\n",
       "      <td>Le dernier diamant</td>\n",
       "      <td>2014</td>\n",
       "      <td>22.0</td>\n",
       "      <td>Crime, Drama, Thriller</td>\n",
       "      <td>108</td>\n",
       "      <td>France, Luxembourg, Belgium</td>\n",
       "      <td>French</td>\n",
       "      <td>Eric Barbier</td>\n",
       "      <td>Eric Barbier, Marie Eynard</td>\n",
       "      <td>Vertigo</td>\n",
       "      <td>Yvan Attal, Bérénice Bejo, Jean-François Stéve...</td>\n",
       "      <td>Simon has just been released from prison and i...</td>\n",
       "      <td>6.3</td>\n",
       "      <td>1497</td>\n",
       "      <td>9.0</td>\n",
       "    </tr>\n",
       "    <tr>\n",
       "      <th>69997</th>\n",
       "      <td>tt3137546</td>\n",
       "      <td>Legacy</td>\n",
       "      <td>Legacy</td>\n",
       "      <td>2015</td>\n",
       "      <td>1.0</td>\n",
       "      <td>Comedy, Drama</td>\n",
       "      <td>95</td>\n",
       "      <td>UK</td>\n",
       "      <td>English</td>\n",
       "      <td>Davie Fairbanks, Marc Small</td>\n",
       "      <td>Davie Fairbanks, Marc Small</td>\n",
       "      <td>Unstoppable Entertainment</td>\n",
       "      <td>Franz Drameh, Amy Tyger, McKell David, Jacob C...</td>\n",
       "      <td>What do you do when the party of the year kick...</td>\n",
       "      <td>4.5</td>\n",
       "      <td>331</td>\n",
       "      <td>4.0</td>\n",
       "    </tr>\n",
       "    <tr>\n",
       "      <th>69998</th>\n",
       "      <td>tt3137630</td>\n",
       "      <td>David Brent: Life on the Road</td>\n",
       "      <td>David Brent: Life on the Road</td>\n",
       "      <td>2016</td>\n",
       "      <td>72.0</td>\n",
       "      <td>Comedy, Music</td>\n",
       "      <td>96</td>\n",
       "      <td>UK, USA</td>\n",
       "      <td>English</td>\n",
       "      <td>Ricky Gervais</td>\n",
       "      <td>Ricky Gervais</td>\n",
       "      <td>BBC Films</td>\n",
       "      <td>Ricky Gervais, Rob Jarvis, Abbie Murphy, Mande...</td>\n",
       "      <td>A camera crew catches up with David Brent, the...</td>\n",
       "      <td>6.3</td>\n",
       "      <td>17957</td>\n",
       "      <td>112.0</td>\n",
       "    </tr>\n",
       "  </tbody>\n",
       "</table>\n",
       "<p>54526 rows × 17 columns</p>\n",
       "</div>"
      ],
      "text/plain": [
       "      imdb_title_id                                              title  \\\n",
       "0         tt0000009                                         Miss Jerry   \n",
       "1         tt0000574                        The Story of the Kelly Gang   \n",
       "3         tt0002101                                          Cleopatra   \n",
       "4         tt0002130                                          L'Inferno   \n",
       "5         tt0002199  From the Manger to the Cross; or, Jesus of Naz...   \n",
       "...             ...                                                ...   \n",
       "69994     tt3136112                                            Shelter   \n",
       "69995     tt3136646                                         Dukhless 2   \n",
       "69996     tt3136752                                 Le dernier diamant   \n",
       "69997     tt3137546                                             Legacy   \n",
       "69998     tt3137630                      David Brent: Life on the Road   \n",
       "\n",
       "                                          original_title  year  \\\n",
       "0                                             Miss Jerry  1894   \n",
       "1                            The Story of the Kelly Gang  1906   \n",
       "3                                              Cleopatra  1912   \n",
       "4                                              L'Inferno  1911   \n",
       "5      From the Manger to the Cross; or, Jesus of Naz...  1912   \n",
       "...                                                  ...   ...   \n",
       "69994                                            Shelter  2014   \n",
       "69995                                         Dukhless 2  2015   \n",
       "69996                                 Le dernier diamant  2014   \n",
       "69997                                             Legacy  2015   \n",
       "69998                      David Brent: Life on the Road  2016   \n",
       "\n",
       "       reviews_from_critics                      genre  duration  \\\n",
       "0                       2.0                    Romance        45   \n",
       "1                       7.0    Biography, Crime, Drama        70   \n",
       "3                       3.0             Drama, History       100   \n",
       "4                      14.0  Adventure, Drama, Fantasy        68   \n",
       "5                       5.0           Biography, Drama        60   \n",
       "...                     ...                        ...       ...   \n",
       "69994                  29.0                      Drama       105   \n",
       "69995                   2.0                      Drama       103   \n",
       "69996                  22.0     Crime, Drama, Thriller       108   \n",
       "69997                   1.0              Comedy, Drama        95   \n",
       "69998                  72.0              Comedy, Music        96   \n",
       "\n",
       "                           country         language  \\\n",
       "0                              USA             None   \n",
       "1                        Australia             None   \n",
       "3                              USA          English   \n",
       "4                            Italy          Italian   \n",
       "5                              USA          English   \n",
       "...                            ...              ...   \n",
       "69994                          USA  English, French   \n",
       "69995                       Russia          Russian   \n",
       "69996  France, Luxembourg, Belgium           French   \n",
       "69997                           UK          English   \n",
       "69998                      UK, USA          English   \n",
       "\n",
       "                                  director                           writer  \\\n",
       "0                          Alexander Black                  Alexander Black   \n",
       "1                             Charles Tait                     Charles Tait   \n",
       "3                       Charles L. Gaskill                 Victorien Sardou   \n",
       "4      Francesco Bertolini, Adolfo Padovan                  Dante Alighieri   \n",
       "5                            Sidney Olcott                    Gene Gauntier   \n",
       "...                                    ...                              ...   \n",
       "69994                         Paul Bettany                     Paul Bettany   \n",
       "69995                       Roman Prygunov  Fuad Ibragimbekov, Mikhail Idov   \n",
       "69996                         Eric Barbier       Eric Barbier, Marie Eynard   \n",
       "69997          Davie Fairbanks, Marc Small      Davie Fairbanks, Marc Small   \n",
       "69998                        Ricky Gervais                    Ricky Gervais   \n",
       "\n",
       "                  production_company  \\\n",
       "0         Alexander Black Photoplays   \n",
       "1                     J. and N. Tait   \n",
       "3      Helen Gardner Picture Players   \n",
       "4                        Milano Film   \n",
       "5                      Kalem Company   \n",
       "...                              ...   \n",
       "69994               Bifrost Pictures   \n",
       "69995            Art Pictures Studio   \n",
       "69996                        Vertigo   \n",
       "69997      Unstoppable Entertainment   \n",
       "69998                      BBC Films   \n",
       "\n",
       "                                                  actors  \\\n",
       "0      Blanche Bayliss, William Courtenay, Chauncey D...   \n",
       "1      Elizabeth Tait, John Tait, Norman Campbell, Be...   \n",
       "3      Helen Gardner, Pearl Sindelar, Miss Fielding, ...   \n",
       "4      Salvatore Papa, Arturo Pirovano, Giuseppe de L...   \n",
       "5      R. Henderson Bland, Percy Dyer, Gene Gauntier,...   \n",
       "...                                                  ...   \n",
       "69994  Adolfo Mendez-Nouel, Anthony Mackie, Kevin Hof...   \n",
       "69995  Danila Kozlovsky, Mariya Andreeva, Milos Bikov...   \n",
       "69996  Yvan Attal, Bérénice Bejo, Jean-François Stéve...   \n",
       "69997  Franz Drameh, Amy Tyger, McKell David, Jacob C...   \n",
       "69998  Ricky Gervais, Rob Jarvis, Abbie Murphy, Mande...   \n",
       "\n",
       "                                             description  avg_vote  votes  \\\n",
       "0      The adventures of a female reporter in the 1890s.       5.9    154   \n",
       "1      True story of notorious Australian outlaw Ned ...       6.1    589   \n",
       "3      The fabled queen of Egypt's affair with Roman ...       5.2    446   \n",
       "4      Loosely adapted from Dante's Divine Comedy and...       7.0   2237   \n",
       "5      An account of the life of Jesus Christ, based ...       5.7    484   \n",
       "...                                                  ...       ...    ...   \n",
       "69994  Hannah and Tahir fall in love while homeless o...       6.5   4322   \n",
       "69995  Max Andreev thought the best place to start a ...       6.2   1555   \n",
       "69996  Simon has just been released from prison and i...       6.3   1497   \n",
       "69997  What do you do when the party of the year kick...       4.5    331   \n",
       "69998  A camera crew catches up with David Brent, the...       6.3  17957   \n",
       "\n",
       "       reviews_from_users  \n",
       "0                     1.0  \n",
       "1                     7.0  \n",
       "3                    25.0  \n",
       "4                    31.0  \n",
       "5                    13.0  \n",
       "...                   ...  \n",
       "69994                32.0  \n",
       "69995                 2.0  \n",
       "69996                 9.0  \n",
       "69997                 4.0  \n",
       "69998               112.0  \n",
       "\n",
       "[54526 rows x 17 columns]"
      ]
     },
     "execution_count": 21,
     "metadata": {},
     "output_type": "execute_result"
    }
   ],
   "source": [
    "new_df = df.dropna()\n",
    "new_df"
   ]
  },
  {
   "cell_type": "code",
   "execution_count": 22,
   "metadata": {},
   "outputs": [
    {
     "data": {
      "text/plain": [
       "False"
      ]
     },
     "execution_count": 22,
     "metadata": {},
     "output_type": "execute_result"
    }
   ],
   "source": [
    "new_df.isnull().values.any()"
   ]
  },
  {
   "cell_type": "code",
   "execution_count": 23,
   "metadata": {},
   "outputs": [],
   "source": [
    "#Create a list of important columns for the recommendation_sytstem\n",
    "columns = ['original_title','genre','director','actors']"
   ]
  },
  {
   "cell_type": "code",
   "execution_count": 27,
   "metadata": {},
   "outputs": [
    {
     "data": {
      "text/plain": [
       "False"
      ]
     },
     "execution_count": 27,
     "metadata": {},
     "output_type": "execute_result"
    }
   ],
   "source": [
    "new_df[columns].isnull().values.any()"
   ]
  },
  {
   "cell_type": "code",
   "execution_count": 28,
   "metadata": {},
   "outputs": [],
   "source": [
    "#Create a function  to combine the values  of the important columns into a single string\n",
    "def get_important_features(data):\n",
    "    important_features = []\n",
    "    for i  in range(0, data.shape[0]):\n",
    "        important_features.append(data['original_title'][i]+' '+data['genre'][i]+' '+data['director'][i]+' '+data['actors'][i])\n",
    "    \n",
    "    return important_features"
   ]
  },
  {
   "cell_type": "code",
   "execution_count": null,
   "metadata": {},
   "outputs": [],
   "source": [
    "# Creating column to the combined strings\n",
    "\n",
    "new_df['important_features'] = get_important_features(new_df)\n",
    "\n",
    "#Show the data\n",
    "new_df.head(3)"
   ]
  },
  {
   "cell_type": "code",
   "execution_count": null,
   "metadata": {},
   "outputs": [],
   "source": [
    "# Convert a text to a matrix of token counts\n",
    "cm = CountVectorizer().fit_transform(df['improtant_features'])"
   ]
  },
  {
   "cell_type": "code",
   "execution_count": null,
   "metadata": {},
   "outputs": [],
   "source": [
    "# Getting cosine similarity matrix from the count matrix\n",
    "cs = cosine_similarity(cm)\n",
    "# Print the  cosine  similarity matrix\n",
    "print(cs)\n"
   ]
  },
  {
   "cell_type": "code",
   "execution_count": null,
   "metadata": {},
   "outputs": [],
   "source": [
    "# GET the shape of  the cosine simlarity  marix\n",
    "cs.shape"
   ]
  },
  {
   "cell_type": "code",
   "execution_count": null,
   "metadata": {},
   "outputs": [],
   "source": [
    "# Get the title of the movie  that the user likes\n",
    "title = 'The Amazing  Spider-Man'\n",
    "\n",
    "#Find the movie id\n",
    "movie_id =df[df.original_title == title][Movie_id].values[0]"
   ]
  },
  {
   "cell_type": "code",
   "execution_count": null,
   "metadata": {},
   "outputs": [],
   "source": [
    "#Cretae a list of enumerations for the similarity score [ (mocie_id, similarity_score), (....)]\n",
    "scores = list(enumerate(cs[movie_id]))"
   ]
  },
  {
   "cell_type": "code",
   "execution_count": null,
   "metadata": {},
   "outputs": [],
   "source": [
    "# Sort the list \n",
    "sorted_scores = sorted(scores, key = lamda x: x[1, reverse =True])\n",
    "sorted_score = sorted_score[1:0]"
   ]
  },
  {
   "cell_type": "code",
   "execution_count": null,
   "metadata": {},
   "outputs": [],
   "source": [
    "#Print the sorted scores\n",
    "print(sorted_scores)"
   ]
  },
  {
   "cell_type": "code",
   "execution_count": null,
   "metadata": {},
   "outputs": [],
   "source": [
    "#Create the loop  to print the first 7 most similar movies \n",
    "k=0\n",
    "print('The 7 most recommeded movies to', title, 'are:\\n')\n",
    "for item in sorted_scores:\n",
    "    movie_title = df[df.Movie_id == item[0]]['original_title']\n",
    "    print(k+1, movie_title)\n",
    "    k = k+1\n",
    "    if k>4:\n",
    "        break\n",
    "    "
   ]
  }
 ],
 "metadata": {
  "kernelspec": {
   "display_name": "Python 3",
   "language": "python",
   "name": "python3"
  },
  "language_info": {
   "codemirror_mode": {
    "name": "ipython",
    "version": 3
   },
   "file_extension": ".py",
   "mimetype": "text/x-python",
   "name": "python",
   "nbconvert_exporter": "python",
   "pygments_lexer": "ipython3",
   "version": "3.8.5"
  }
 },
 "nbformat": 4,
 "nbformat_minor": 4
}
